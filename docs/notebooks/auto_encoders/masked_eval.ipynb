{
 "cells": [
  {
   "cell_type": "code",
   "execution_count": null,
   "metadata": {},
   "outputs": [],
   "source": [
    "%run ../supportvectors-common.ipynb"
   ]
  },
  {
   "cell_type": "code",
   "execution_count": 2,
   "metadata": {},
   "outputs": [],
   "source": [
    "import torch\n",
    "from torchvision.transforms import v2\n",
    "from svlearn.config.configuration import ConfigurationMixin\n",
    "                                                        \n",
    "from svlearn.auto_encoders.resnet_auto_encoder import ResNetAutoEncoder"
   ]
  },
  {
   "cell_type": "code",
   "execution_count": 3,
   "metadata": {},
   "outputs": [],
   "source": [
    "import gc\n",
    "gc.collect()\n",
    "torch.cuda.empty_cache()"
   ]
  },
  {
   "cell_type": "code",
   "execution_count": null,
   "metadata": {},
   "outputs": [],
   "source": [
    "config = ConfigurationMixin().load_config()\n",
    "results_dir = config['tree-classification']['results']"
   ]
  },
  {
   "cell_type": "code",
   "execution_count": 5,
   "metadata": {},
   "outputs": [],
   "source": [
    "test_transform = v2.Compose([\n",
    "    v2.ToImage(), \n",
    "    v2.Resize(size=(224 , 224)),  # resize all images to a standard size suitable for the cnn model\n",
    "    v2.ToDtype(torch.float32, scale=True), # ensure te tensor is of float datatype\n",
    "    v2.Normalize(mean=[0.485, 0.456, 0.406], std=[0.229, 0.224, 0.225]), # normalize tensor \n",
    "])"
   ]
  },
  {
   "cell_type": "code",
   "execution_count": 6,
   "metadata": {},
   "outputs": [],
   "source": [
    "import numpy as np\n",
    "def generate_mask(images, patch_size=16, mask_ratio=0.2):\n",
    "    \"\"\"Generates random masks for images by replacing certain patches with zeros.\"\"\"\n",
    "    batch_size, _, height, width = images.shape\n",
    "    mask = torch.ones_like(images)\n",
    "    num_patches = (height // patch_size) * (width // patch_size)\n",
    "    num_masked = int(mask_ratio * num_patches)\n",
    "    \n",
    "    rng = np.random.default_rng(42)\n",
    "    for i in range(batch_size):\n",
    "        mask_indices = rng.choice(num_patches, num_masked, replace=False)\n",
    "        for idx in mask_indices:\n",
    "            row = (idx // (width // patch_size)) * patch_size\n",
    "            col = (idx % (width // patch_size)) * patch_size\n",
    "            mask[i, :, row:row+patch_size, col:col+patch_size] = 0\n",
    "            \n",
    "    return images * mask"
   ]
  },
  {
   "cell_type": "code",
   "execution_count": 14,
   "metadata": {},
   "outputs": [],
   "source": [
    "# Load the images with some artificially induced noise\n",
    "import os\n",
    "from PIL import Image\n",
    "image_path = '/home/chandar/images'\n",
    "images = []\n",
    "for filename in os.listdir(image_path):\n",
    "    file_path = os.path.join(image_path, filename)\n",
    "    img = Image.open(file_path).convert('RGB')  # Ensure 3-channel RGB format\n",
    "    # Apply transformations\n",
    "    img_transformed = test_transform(img)\n",
    "    masked_image = generate_mask(img_transformed.unsqueeze(0), mask_ratio=0.0).squeeze(0)\n",
    "    images.append(masked_image)\n"
   ]
  },
  {
   "cell_type": "code",
   "execution_count": 8,
   "metadata": {},
   "outputs": [],
   "source": [
    "device = \"cuda\" if torch.cuda.is_available() else \"cpu\"\n",
    "model = ResNetAutoEncoder().to(device)"
   ]
  },
  {
   "cell_type": "code",
   "execution_count": 9,
   "metadata": {},
   "outputs": [],
   "source": [
    "checkpoint = torch.load(f\"{results_dir}/trees_resnet50_masked_autoencoder.pt\")"
   ]
  },
  {
   "cell_type": "code",
   "execution_count": null,
   "metadata": {},
   "outputs": [],
   "source": [
    "model.load_state_dict(checkpoint['model_state_dict'])\n",
    "model.eval()"
   ]
  },
  {
   "cell_type": "code",
   "execution_count": null,
   "metadata": {},
   "outputs": [],
   "source": [
    "import matplotlib.pyplot as plt\n",
    "from svlearn.auto_encoders.auto_encoder_util import convert\n",
    "with torch.no_grad():\n",
    "    num_images = len(images)\n",
    "    images = [img.to(device) for img in images]\n",
    "    images = torch.stack(images)\n",
    "    reconstructed, _ = model(images)\n",
    "    \n",
    "    # Display original and reconstructed images\n",
    "    _, axs = plt.subplots(2, num_images, figsize=(10, 4))\n",
    "    for i in range(num_images):\n",
    "        axs[0, i].imshow(convert(images[i].cpu()))\n",
    "        axs[1, i].imshow(convert(reconstructed[i].cpu()))\n",
    "    plt.show()"
   ]
  }
 ],
 "metadata": {
  "kernelspec": {
   "display_name": "ai_intro_2",
   "language": "python",
   "name": "python3"
  },
  "language_info": {
   "codemirror_mode": {
    "name": "ipython",
    "version": 3
   },
   "file_extension": ".py",
   "mimetype": "text/x-python",
   "name": "python",
   "nbconvert_exporter": "python",
   "pygments_lexer": "ipython3",
   "version": "3.11.9"
  }
 },
 "nbformat": 4,
 "nbformat_minor": 2
}
