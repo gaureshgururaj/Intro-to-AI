{
 "cells": [
  {
   "cell_type": "code",
   "execution_count": null,
   "metadata": {},
   "outputs": [],
   "source": [
    "%run ../supportvectors-common.ipynb"
   ]
  },
  {
   "cell_type": "code",
   "execution_count": 2,
   "metadata": {},
   "outputs": [],
   "source": [
    "import torch\n",
    "from torchvision.transforms import v2\n",
    "from svlearn.config.configuration import ConfigurationMixin\n",
    "                                                        \n",
    "from svlearn.auto_encoders.resnet_auto_encoder import ResNetAutoEncoder"
   ]
  },
  {
   "cell_type": "code",
   "execution_count": 3,
   "metadata": {},
   "outputs": [],
   "source": [
    "import gc\n",
    "gc.collect()\n",
    "torch.cuda.empty_cache()"
   ]
  },
  {
   "cell_type": "code",
   "execution_count": null,
   "metadata": {},
   "outputs": [],
   "source": [
    "config = ConfigurationMixin().load_config()\n",
    "results_dir = config['tree-classification']['results']"
   ]
  },
  {
   "cell_type": "code",
   "execution_count": 5,
   "metadata": {},
   "outputs": [],
   "source": [
    "test_transform = v2.Compose([\n",
    "    v2.ToImage(), \n",
    "    v2.Resize(size=(224 , 224)),  # resize all images to a standard size suitable for the cnn model\n",
    "    v2.ToDtype(torch.float32, scale=True), # ensure te tensor is of float datatype\n",
    "    v2.Normalize(mean=[0.485, 0.456, 0.406], std=[0.229, 0.224, 0.225]), # normalize tensor \n",
    "])"
   ]
  },
  {
   "cell_type": "code",
   "execution_count": 13,
   "metadata": {},
   "outputs": [],
   "source": [
    "# Load the images with some artificially induced noise\n",
    "import os\n",
    "from PIL import Image\n",
    "image_path = '/home/chandar/images'\n",
    "images = []\n",
    "for filename in os.listdir(image_path):\n",
    "    file_path = os.path.join(image_path, filename)\n",
    "    img = Image.open(file_path).convert('RGB')  # Ensure 3-channel RGB format\n",
    "    # Apply transformations\n",
    "    img_transformed = test_transform(img)\n",
    "    noisy_image = img_transformed + 0.0 * torch.randn_like(img_transformed)\n",
    "    images.append(noisy_image)\n"
   ]
  },
  {
   "cell_type": "code",
   "execution_count": 7,
   "metadata": {},
   "outputs": [],
   "source": [
    "device = \"cuda\" if torch.cuda.is_available() else \"cpu\"\n",
    "model = ResNetAutoEncoder().to(device)"
   ]
  },
  {
   "cell_type": "code",
   "execution_count": 8,
   "metadata": {},
   "outputs": [],
   "source": [
    "checkpoint = torch.load(f\"{results_dir}/trees_resnet50_denoising_autoencoder.pt\")"
   ]
  },
  {
   "cell_type": "code",
   "execution_count": null,
   "metadata": {},
   "outputs": [],
   "source": [
    "model.load_state_dict(checkpoint['model_state_dict'])\n",
    "model.eval()"
   ]
  },
  {
   "cell_type": "code",
   "execution_count": null,
   "metadata": {},
   "outputs": [],
   "source": [
    "import matplotlib.pyplot as plt\n",
    "from svlearn.auto_encoders.auto_encoder_util import convert\n",
    "with torch.no_grad():\n",
    "    num_images = len(images)\n",
    "    images = [img.to(device) for img in images]\n",
    "    images = torch.stack(images)\n",
    "    reconstructed, _ = model(images)\n",
    "    \n",
    "    # Display original and reconstructed images\n",
    "    _, axs = plt.subplots(2, num_images, figsize=(10, 4))\n",
    "    for i in range(num_images):\n",
    "        axs[0, i].imshow(convert(images[i].cpu()))\n",
    "        axs[1, i].imshow(convert(reconstructed[i].cpu()))\n",
    "    plt.show()"
   ]
  }
 ],
 "metadata": {
  "kernelspec": {
   "display_name": "ai_intro_2",
   "language": "python",
   "name": "python3"
  },
  "language_info": {
   "codemirror_mode": {
    "name": "ipython",
    "version": 3
   },
   "file_extension": ".py",
   "mimetype": "text/x-python",
   "name": "python",
   "nbconvert_exporter": "python",
   "pygments_lexer": "ipython3",
   "version": "3.11.9"
  }
 },
 "nbformat": 4,
 "nbformat_minor": 2
}
