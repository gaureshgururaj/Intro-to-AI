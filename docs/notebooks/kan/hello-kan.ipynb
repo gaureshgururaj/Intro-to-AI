{
 "cells": [
  {
   "cell_type": "markdown",
   "metadata": {},
   "source": [
    "# KAN using pykan\n",
    "taken from [here](https://kindxiaoming.github.io/pykan/intro.html)"
   ]
  },
  {
   "cell_type": "code",
   "execution_count": 1,
   "metadata": {},
   "outputs": [
    {
     "data": {
      "text/html": [
       "\n",
       "<!-- Many of the styles here are inspired by: \n",
       "    https://towardsdatascience.com/10-practical-tips-you-need-to-know-to-personalize-jupyter-notebook-fbd202777e20 \n",
       "       \n",
       "    \n",
       "    On the author's local machine, these exist in the custom.css file. However, in order to keep uniform look and feel, \n",
       "    and at the request of participants, I have added it to this common import-file here.\n",
       "\n",
       "    -->\n",
       "\n",
       "<link href=\"https://fonts.googleapis.com/css?family=Lora:400,700|Montserrat:300\" rel=\"stylesheet\">\n",
       "\n",
       "<link href=\"https://fonts.googleapis.com/css2?family=Crimson+Pro&family=Literata&display=swap\" rel=\"stylesheet\">\n",
       "<style>\n",
       "\n",
       "\n",
       "#ipython_notebook::before{\n",
       " content:\"Neural Architectures\";\n",
       "        color: white;\n",
       "        font-weight: bold;\n",
       "        text-transform: uppercase;\n",
       "        font-family: 'Lora',serif;\n",
       "        font-size:16pt;\n",
       "        margin-bottom:15px;\n",
       "        margin-top:15px;\n",
       "           \n",
       "}\n",
       "body > #header {\n",
       "    #background: #D15555;\n",
       "    background: linear-gradient(to bottom, indianred 0%, #fff 100%);\n",
       "    opacity: 0.8;\n",
       "\n",
       "}\n",
       "\n",
       "\n",
       ".navbar-default .navbar-nav > li > a, #kernel_indicator {\n",
       "    color: white;\n",
       "    transition: all 0.25s;\n",
       "    font-size:10pt;\n",
       "    font-family: sans-serif;\n",
       "    font-weight:normal;\n",
       "}\n",
       ".navbar-default {\n",
       "    padding-left:100px;\n",
       "    background: none;\n",
       "    border: none;\n",
       "}\n",
       "\n",
       "\n",
       "body > menubar-container {\n",
       "    background-color: wheat;\n",
       "}\n",
       "#ipython_notebook img{                                                                                        \n",
       "    display:block; \n",
       "    \n",
       "    background: url(\"https://www.supportvectors.com/wp-content/uploads/2016/03/logo-poster-smaller.png\") no-repeat;\n",
       "    background-size: contain;\n",
       "   \n",
       "    padding-left: 600px;\n",
       "    padding-right: 100px;\n",
       "    \n",
       "    -moz-box-sizing: border-box;\n",
       "    box-sizing: border-box;\n",
       "}\n",
       "\n",
       "\n",
       "\n",
       "body {\n",
       " #font-family:  'Literata', serif;\n",
       "    font-family:'Lora', san-serif;\n",
       "    text-align: justify;\n",
       "    font-weight: 400;\n",
       "    font-size: 12pt;\n",
       "}\n",
       "\n",
       "iframe{\n",
       "    width:100%;\n",
       "    min-height:600px;\n",
       "}\n",
       "\n",
       "h1, h2, h3, h4, h5, h6 {\n",
       "# font-family: 'Montserrat', sans-serif;\n",
       " font-family:'Lora', serif;\n",
       " font-weight: 200;\n",
       " text-transform: uppercase;\n",
       " color: #EC7063 ;\n",
       "}\n",
       "\n",
       "h2 {\n",
       "    color: #000080;\n",
       "}\n",
       "\n",
       ".checkpoint_status, .autosave_status {\n",
       "    color:wheat;\n",
       "}\n",
       "\n",
       "#notebook_name {\n",
       "    font-weight: 600;\n",
       "    font-size:20pt;\n",
       "    text-variant:uppercase;\n",
       "    color: wheat; \n",
       "    margin-right:20px;\n",
       "    margin-left:-500px;\n",
       "}\n",
       "#notebook_name:hover {\n",
       "background-color: salmon;\n",
       "}\n",
       "\n",
       "\n",
       ".dataframe { /* dataframe atau table */\n",
       "    background: white;\n",
       "    box-shadow: 0px 1px 2px #bbb;\n",
       "}\n",
       ".dataframe thead th, .dataframe tbody td {\n",
       "    text-align: center;\n",
       "    padding: 1em;\n",
       "}\n",
       "\n",
       ".checkpoint_status, .autosave_status {\n",
       "    color:wheat;\n",
       "}\n",
       "\n",
       ".output {\n",
       "    align-items: center;\n",
       "}\n",
       "\n",
       "div.cell {\n",
       "    transition: all 0.25s;\n",
       "    border: none;\n",
       "    position: relative;\n",
       "    top: 0;\n",
       "}\n",
       "div.cell.selected, div.cell.selected.jupyter-soft-selected {\n",
       "    border: none;\n",
       "    background: transparent;\n",
       "    box-shadow: 0 6px 18px #aaa;\n",
       "    z-index: 10;\n",
       "    top: -10px;\n",
       "}\n",
       ".CodeMirror pre, .CodeMirror-dialog, .CodeMirror-dialog .CodeMirror-search-field, .terminal-app .terminal {\n",
       "    font-family: 'Hack' , serif; \n",
       "    font-weight: 500;\n",
       "    font-size: 14pt;\n",
       "}\n",
       "\n",
       "\n",
       "\n",
       "</style>    \n"
      ],
      "text/plain": [
       "<IPython.core.display.HTML object>"
      ]
     },
     "metadata": {},
     "output_type": "display_data"
    },
    {
     "data": {
      "text/markdown": [
       "\n",
       "<div style=\"color:#aaa;font-size:8pt\">\n",
       "<hr/>\n",
       "&copy; SupportVectors. All rights reserved. <blockquote>This notebook is the intellectual property of SupportVectors, and part of its training material. \n",
       "Only the participants in SupportVectors workshops are allowed to study the notebooks for educational purposes currently, but is prohibited from copying or using it for any other purposes without written permission.\n",
       "\n",
       "<b> These notebooks are chapters and sections from Asif Qamar's textbook that he is writing on Data Science. So we request you to not circulate the material to others.</b>\n",
       " </blockquote>\n",
       " <hr/>\n",
       "</div>\n",
       "\n"
      ],
      "text/plain": [
       "<IPython.core.display.Markdown object>"
      ]
     },
     "metadata": {},
     "output_type": "display_data"
    }
   ],
   "source": [
    "%run ../supportvectors-common.ipynb"
   ]
  },
  {
   "cell_type": "markdown",
   "metadata": {},
   "source": [
    "The imports"
   ]
  },
  {
   "cell_type": "code",
   "execution_count": 1,
   "metadata": {},
   "outputs": [],
   "source": [
    "from kan import *\n"
   ]
  },
  {
   "cell_type": "markdown",
   "metadata": {},
   "source": [
    "create a KAN: 2D inputs, 1D output, and 5 hidden neurons. cubic spline (k=3), 5 grid intervals (grid=5)."
   ]
  },
  {
   "cell_type": "code",
   "execution_count": null,
   "metadata": {},
   "outputs": [],
   "source": [
    "\n",
    "model = KAN(width=[2,5,1], grid=5, k=3, seed=0)"
   ]
  },
  {
   "cell_type": "markdown",
   "metadata": {},
   "source": [
    "create dataset f(x,y) = exp(sin(pi*x)+y^2)"
   ]
  },
  {
   "cell_type": "code",
   "execution_count": null,
   "metadata": {},
   "outputs": [],
   "source": [
    "f = lambda x: torch.exp(torch.sin(torch.pi*x[:,[0]]) + x[:,[1]]**2)\n",
    "dataset = create_dataset(f, n_var=2)\n",
    "dataset['train_input'].shape, dataset['train_label'].shape"
   ]
  },
  {
   "cell_type": "markdown",
   "metadata": {},
   "source": [
    "plot KAN at initialization\n"
   ]
  },
  {
   "cell_type": "code",
   "execution_count": null,
   "metadata": {},
   "outputs": [],
   "source": [
    "model(dataset['train_input'])\n",
    "model.plot(beta=100)"
   ]
  },
  {
   "cell_type": "markdown",
   "metadata": {},
   "source": [
    "train the model\n"
   ]
  },
  {
   "cell_type": "code",
   "execution_count": null,
   "metadata": {},
   "outputs": [],
   "source": [
    "model.fit(dataset, opt=\"LBFGS\", steps=20, lamb=0.01, lamb_entropy=10.)"
   ]
  },
  {
   "cell_type": "code",
   "execution_count": 5,
   "metadata": {},
   "outputs": [
    {
     "data": {
      "image/png": "[encoded data removed]",
      "text/plain": [
       "<Figure size 500x400 with 22 Axes>"
      ]
     },
     "metadata": {},
     "output_type": "display_data"
    }
   ],
   "source": [
    "model.plot()"
   ]
  },
  {
   "cell_type": "code",
   "execution_count": 6,
   "metadata": {},
   "outputs": [
    {
     "name": "stdout",
     "output_type": "stream",
     "text": [
      "saving model version 0.2\n"
     ]
    },
    {
     "data": {
      "image/png": "[encoded data removed]",
      "text/plain": [
       "<Figure size 500x400 with 22 Axes>"
      ]
     },
     "metadata": {},
     "output_type": "display_data"
    }
   ],
   "source": [
    "model.prune()\n",
    "model.plot()"
   ]
  },
  {
   "cell_type": "code",
   "execution_count": 7,
   "metadata": {},
   "outputs": [
    {
     "name": "stdout",
     "output_type": "stream",
     "text": [
      "saving model version 0.2\n"
     ]
    },
    {
     "data": {
      "image/png": "[encoded data removed]",
      "text/plain": [
       "<Figure size 500x400 with 6 Axes>"
      ]
     },
     "metadata": {},
     "output_type": "display_data"
    }
   ],
   "source": [
    "model = model.prune()\n",
    "model(dataset['train_input'])\n",
    "model.plot()"
   ]
  },
  {
   "cell_type": "code",
   "execution_count": 8,
   "metadata": {},
   "outputs": [
    {
     "name": "stderr",
     "output_type": "stream",
     "text": [
      "| train_loss: 7.30e-03 | test_loss: 7.24e-03 | reg: 7.60e+00 | : 100%|█| 50/50 [00:03<00:00, 12.97it"
     ]
    },
    {
     "name": "stdout",
     "output_type": "stream",
     "text": [
      "saving model version 0.3\n"
     ]
    },
    {
     "name": "stderr",
     "output_type": "stream",
     "text": [
      "\n"
     ]
    },
    {
     "data": {
      "text/plain": [
       "{'train_loss': [array(0.12952511, dtype=float32),\n",
       "  array(0.05934893, dtype=float32),\n",
       "  array(0.03499892, dtype=float32),\n",
       "  array(0.01925761, dtype=float32),\n",
       "  array(0.01464661, dtype=float32),\n",
       "  array(0.01289113, dtype=float32),\n",
       "  array(0.01030145, dtype=float32),\n",
       "  array(0.00868717, dtype=float32),\n",
       "  array(0.00793991, dtype=float32),\n",
       "  array(0.00749116, dtype=float32),\n",
       "  array(0.00736409, dtype=float32),\n",
       "  array(0.00731061, dtype=float32),\n",
       "  array(0.00730655, dtype=float32),\n",
       "  array(0.0073044, dtype=float32),\n",
       "  array(0.00730377, dtype=float32),\n",
       "  array(0.00730469, dtype=float32),\n",
       "  array(0.00730455, dtype=float32),\n",
       "  array(0.00730455, dtype=float32),\n",
       "  array(0.00730455, dtype=float32),\n",
       "  array(0.00730455, dtype=float32),\n",
       "  array(0.00730458, dtype=float32),\n",
       "  array(0.00730439, dtype=float32),\n",
       "  array(0.00730439, dtype=float32),\n",
       "  array(0.00730439, dtype=float32),\n",
       "  array(0.00730439, dtype=float32),\n",
       "  array(0.00730444, dtype=float32),\n",
       "  array(0.00730444, dtype=float32),\n",
       "  array(0.00730441, dtype=float32),\n",
       "  array(0.00730441, dtype=float32),\n",
       "  array(0.00730437, dtype=float32),\n",
       "  array(0.00730355, dtype=float32),\n",
       "  array(0.00730355, dtype=float32),\n",
       "  array(0.00730355, dtype=float32),\n",
       "  array(0.00730355, dtype=float32),\n",
       "  array(0.00730355, dtype=float32),\n",
       "  array(0.00730373, dtype=float32),\n",
       "  array(0.00730373, dtype=float32),\n",
       "  array(0.00730373, dtype=float32),\n",
       "  array(0.00730373, dtype=float32),\n",
       "  array(0.00730373, dtype=float32),\n",
       "  array(0.00730204, dtype=float32),\n",
       "  array(0.00730151, dtype=float32),\n",
       "  array(0.00730136, dtype=float32),\n",
       "  array(0.00730136, dtype=float32),\n",
       "  array(0.00730136, dtype=float32),\n",
       "  array(0.00730251, dtype=float32),\n",
       "  array(0.00730251, dtype=float32),\n",
       "  array(0.00730251, dtype=float32),\n",
       "  array(0.00730251, dtype=float32),\n",
       "  array(0.00730251, dtype=float32)],\n",
       " 'test_loss': [array(0.13132276, dtype=float32),\n",
       "  array(0.06118323, dtype=float32),\n",
       "  array(0.03383186, dtype=float32),\n",
       "  array(0.01942428, dtype=float32),\n",
       "  array(0.01433274, dtype=float32),\n",
       "  array(0.0133615, dtype=float32),\n",
       "  array(0.01031519, dtype=float32),\n",
       "  array(0.00865211, dtype=float32),\n",
       "  array(0.00768257, dtype=float32),\n",
       "  array(0.00736174, dtype=float32),\n",
       "  array(0.00725935, dtype=float32),\n",
       "  array(0.00724746, dtype=float32),\n",
       "  array(0.00725173, dtype=float32),\n",
       "  array(0.00722794, dtype=float32),\n",
       "  array(0.00723476, dtype=float32),\n",
       "  array(0.0072337, dtype=float32),\n",
       "  array(0.00723359, dtype=float32),\n",
       "  array(0.00723359, dtype=float32),\n",
       "  array(0.00723359, dtype=float32),\n",
       "  array(0.00723359, dtype=float32),\n",
       "  array(0.0072422, dtype=float32),\n",
       "  array(0.00724296, dtype=float32),\n",
       "  array(0.00724296, dtype=float32),\n",
       "  array(0.00724296, dtype=float32),\n",
       "  array(0.00724296, dtype=float32),\n",
       "  array(0.00724492, dtype=float32),\n",
       "  array(0.00724492, dtype=float32),\n",
       "  array(0.0072451, dtype=float32),\n",
       "  array(0.0072451, dtype=float32),\n",
       "  array(0.0072451, dtype=float32),\n",
       "  array(0.00723961, dtype=float32),\n",
       "  array(0.00723959, dtype=float32),\n",
       "  array(0.00723959, dtype=float32),\n",
       "  array(0.00723959, dtype=float32),\n",
       "  array(0.00723959, dtype=float32),\n",
       "  array(0.0072398, dtype=float32),\n",
       "  array(0.0072398, dtype=float32),\n",
       "  array(0.0072398, dtype=float32),\n",
       "  array(0.0072398, dtype=float32),\n",
       "  array(0.0072398, dtype=float32),\n",
       "  array(0.00724293, dtype=float32),\n",
       "  array(0.00724261, dtype=float32),\n",
       "  array(0.00724165, dtype=float32),\n",
       "  array(0.00724165, dtype=float32),\n",
       "  array(0.00724165, dtype=float32),\n",
       "  array(0.00724149, dtype=float32),\n",
       "  array(0.00724149, dtype=float32),\n",
       "  array(0.00724149, dtype=float32),\n",
       "  array(0.00724149, dtype=float32),\n",
       "  array(0.00724149, dtype=float32)],\n",
       " 'reg': [array(0., dtype=float32),\n",
       "  array(0., dtype=float32),\n",
       "  array(0., dtype=float32),\n",
       "  array(0., dtype=float32),\n",
       "  array(0., dtype=float32),\n",
       "  array(0., dtype=float32),\n",
       "  array(0., dtype=float32),\n",
       "  array(0., dtype=float32),\n",
       "  array(0., dtype=float32),\n",
       "  array(0., dtype=float32),\n",
       "  array(0., dtype=float32),\n",
       "  array(0., dtype=float32),\n",
       "  array(0., dtype=float32),\n",
       "  array(0., dtype=float32),\n",
       "  array(0., dtype=float32),\n",
       "  array(0., dtype=float32),\n",
       "  array(0., dtype=float32),\n",
       "  array(0., dtype=float32),\n",
       "  array(0., dtype=float32),\n",
       "  array(0., dtype=float32),\n",
       "  array(0., dtype=float32),\n",
       "  array(0., dtype=float32),\n",
       "  array(0., dtype=float32),\n",
       "  array(0., dtype=float32),\n",
       "  array(0., dtype=float32),\n",
       "  array(0., dtype=float32),\n",
       "  array(0., dtype=float32),\n",
       "  array(0., dtype=float32),\n",
       "  array(0., dtype=float32),\n",
       "  array(0., dtype=float32),\n",
       "  array(0., dtype=float32),\n",
       "  array(0., dtype=float32),\n",
       "  array(0., dtype=float32),\n",
       "  array(0., dtype=float32),\n",
       "  array(0., dtype=float32),\n",
       "  array(0., dtype=float32),\n",
       "  array(0., dtype=float32),\n",
       "  array(0., dtype=float32),\n",
       "  array(0., dtype=float32),\n",
       "  array(0., dtype=float32),\n",
       "  array(0., dtype=float32),\n",
       "  array(0., dtype=float32),\n",
       "  array(0., dtype=float32),\n",
       "  array(0., dtype=float32),\n",
       "  array(0., dtype=float32),\n",
       "  array(0., dtype=float32),\n",
       "  array(0., dtype=float32),\n",
       "  array(0., dtype=float32),\n",
       "  array(0., dtype=float32),\n",
       "  array(7.6049986, dtype=float32)]}"
      ]
     },
     "execution_count": 8,
     "metadata": {},
     "output_type": "execute_result"
    }
   ],
   "source": [
    "model.fit(dataset, opt=\"LBFGS\", steps=50)"
   ]
  },
  {
   "cell_type": "code",
   "execution_count": 9,
   "metadata": {},
   "outputs": [
    {
     "data": {
      "image/png": "[encoded data removed]",
      "text/plain": [
       "<Figure size 500x400 with 6 Axes>"
      ]
     },
     "metadata": {},
     "output_type": "display_data"
    }
   ],
   "source": [
    "model.plot()"
   ]
  },
  {
   "cell_type": "code",
   "execution_count": 10,
   "metadata": {},
   "outputs": [
    {
     "name": "stdout",
     "output_type": "stream",
     "text": [
      "fixing (0,0,0) with sin, r2=0.9999731183052063, c=2\n",
      "fixing (0,1,0) with x^2, r2=0.9999991059303284, c=2\n",
      "fixing (1,0,0) with exp, r2=0.9999991655349731, c=2\n",
      "saving model version 0.4\n"
     ]
    }
   ],
   "source": [
    "mode = \"auto\" # \"manual\"\n",
    "\n",
    "if mode == \"manual\":\n",
    "    # manual mode\n",
    "    model.fix_symbolic(0,0,0,'sin')\n",
    "    model.fix_symbolic(0,1,0,'x^2')\n",
    "    model.fix_symbolic(1,0,0,'exp')\n",
    "elif mode == \"auto\":\n",
    "    # automatic mode\n",
    "    lib = ['x','x^2','x^3','x^4','exp','log','sqrt','tanh','sin','abs']\n",
    "    model.auto_symbolic(lib=lib)"
   ]
  },
  {
   "cell_type": "code",
   "execution_count": 11,
   "metadata": {},
   "outputs": [
    {
     "name": "stderr",
     "output_type": "stream",
     "text": [
      "| train_loss: 8.98e-04 | test_loss: 8.91e-04 | reg: 0.00e+00 | : 100%|█| 50/50 [00:01<00:00, 25.31it"
     ]
    },
    {
     "name": "stdout",
     "output_type": "stream",
     "text": [
      "saving model version 0.5\n"
     ]
    },
    {
     "name": "stderr",
     "output_type": "stream",
     "text": [
      "\n"
     ]
    },
    {
     "data": {
      "text/plain": [
       "{'train_loss': [array(0.00089762, dtype=float32),\n",
       "  array(0.00089762, dtype=float32),\n",
       "  array(0.00089762, dtype=float32),\n",
       "  array(0.00089762, dtype=float32),\n",
       "  array(0.00089762, dtype=float32),\n",
       "  array(0.00089762, dtype=float32),\n",
       "  array(0.00089762, dtype=float32),\n",
       "  array(0.00089762, dtype=float32),\n",
       "  array(0.00089762, dtype=float32),\n",
       "  array(0.00089762, dtype=float32),\n",
       "  array(0.00089762, dtype=float32),\n",
       "  array(0.00089762, dtype=float32),\n",
       "  array(0.00089762, dtype=float32),\n",
       "  array(0.00089762, dtype=float32),\n",
       "  array(0.00089762, dtype=float32),\n",
       "  array(0.00089762, dtype=float32),\n",
       "  array(0.00089762, dtype=float32),\n",
       "  array(0.00089762, dtype=float32),\n",
       "  array(0.00089762, dtype=float32),\n",
       "  array(0.00089762, dtype=float32),\n",
       "  array(0.00089762, dtype=float32),\n",
       "  array(0.00089762, dtype=float32),\n",
       "  array(0.00089762, dtype=float32),\n",
       "  array(0.00089762, dtype=float32),\n",
       "  array(0.00089762, dtype=float32),\n",
       "  array(0.00089762, dtype=float32),\n",
       "  array(0.00089762, dtype=float32),\n",
       "  array(0.00089762, dtype=float32),\n",
       "  array(0.00089762, dtype=float32),\n",
       "  array(0.00089762, dtype=float32),\n",
       "  array(0.00089762, dtype=float32),\n",
       "  array(0.00089762, dtype=float32),\n",
       "  array(0.00089762, dtype=float32),\n",
       "  array(0.00089762, dtype=float32),\n",
       "  array(0.00089762, dtype=float32),\n",
       "  array(0.00089762, dtype=float32),\n",
       "  array(0.00089762, dtype=float32),\n",
       "  array(0.00089762, dtype=float32),\n",
       "  array(0.00089762, dtype=float32),\n",
       "  array(0.00089762, dtype=float32),\n",
       "  array(0.00089762, dtype=float32),\n",
       "  array(0.00089762, dtype=float32),\n",
       "  array(0.00089762, dtype=float32),\n",
       "  array(0.00089762, dtype=float32),\n",
       "  array(0.00089762, dtype=float32),\n",
       "  array(0.00089762, dtype=float32),\n",
       "  array(0.00089762, dtype=float32),\n",
       "  array(0.00089762, dtype=float32),\n",
       "  array(0.00089762, dtype=float32),\n",
       "  array(0.00089762, dtype=float32)],\n",
       " 'test_loss': [array(0.00089063, dtype=float32),\n",
       "  array(0.00089063, dtype=float32),\n",
       "  array(0.00089063, dtype=float32),\n",
       "  array(0.00089063, dtype=float32),\n",
       "  array(0.00089063, dtype=float32),\n",
       "  array(0.00089063, dtype=float32),\n",
       "  array(0.00089063, dtype=float32),\n",
       "  array(0.00089063, dtype=float32),\n",
       "  array(0.00089063, dtype=float32),\n",
       "  array(0.00089063, dtype=float32),\n",
       "  array(0.00089063, dtype=float32),\n",
       "  array(0.00089063, dtype=float32),\n",
       "  array(0.00089063, dtype=float32),\n",
       "  array(0.00089063, dtype=float32),\n",
       "  array(0.00089063, dtype=float32),\n",
       "  array(0.00089063, dtype=float32),\n",
       "  array(0.00089063, dtype=float32),\n",
       "  array(0.00089063, dtype=float32),\n",
       "  array(0.00089063, dtype=float32),\n",
       "  array(0.00089063, dtype=float32),\n",
       "  array(0.00089063, dtype=float32),\n",
       "  array(0.00089063, dtype=float32),\n",
       "  array(0.00089063, dtype=float32),\n",
       "  array(0.00089063, dtype=float32),\n",
       "  array(0.00089063, dtype=float32),\n",
       "  array(0.00089063, dtype=float32),\n",
       "  array(0.00089063, dtype=float32),\n",
       "  array(0.00089063, dtype=float32),\n",
       "  array(0.00089063, dtype=float32),\n",
       "  array(0.00089063, dtype=float32),\n",
       "  array(0.00089063, dtype=float32),\n",
       "  array(0.00089063, dtype=float32),\n",
       "  array(0.00089063, dtype=float32),\n",
       "  array(0.00089063, dtype=float32),\n",
       "  array(0.00089063, dtype=float32),\n",
       "  array(0.00089063, dtype=float32),\n",
       "  array(0.00089063, dtype=float32),\n",
       "  array(0.00089063, dtype=float32),\n",
       "  array(0.00089063, dtype=float32),\n",
       "  array(0.00089063, dtype=float32),\n",
       "  array(0.00089063, dtype=float32),\n",
       "  array(0.00089063, dtype=float32),\n",
       "  array(0.00089063, dtype=float32),\n",
       "  array(0.00089063, dtype=float32),\n",
       "  array(0.00089063, dtype=float32),\n",
       "  array(0.00089063, dtype=float32),\n",
       "  array(0.00089063, dtype=float32),\n",
       "  array(0.00089063, dtype=float32),\n",
       "  array(0.00089063, dtype=float32),\n",
       "  array(0.00089063, dtype=float32)],\n",
       " 'reg': [array(0., dtype=float32),\n",
       "  array(0., dtype=float32),\n",
       "  array(0., dtype=float32),\n",
       "  array(0., dtype=float32),\n",
       "  array(0., dtype=float32),\n",
       "  array(0., dtype=float32),\n",
       "  array(0., dtype=float32),\n",
       "  array(0., dtype=float32),\n",
       "  array(0., dtype=float32),\n",
       "  array(0., dtype=float32),\n",
       "  array(0., dtype=float32),\n",
       "  array(0., dtype=float32),\n",
       "  array(0., dtype=float32),\n",
       "  array(0., dtype=float32),\n",
       "  array(0., dtype=float32),\n",
       "  array(0., dtype=float32),\n",
       "  array(0., dtype=float32),\n",
       "  array(0., dtype=float32),\n",
       "  array(0., dtype=float32),\n",
       "  array(0., dtype=float32),\n",
       "  array(0., dtype=float32),\n",
       "  array(0., dtype=float32),\n",
       "  array(0., dtype=float32),\n",
       "  array(0., dtype=float32),\n",
       "  array(0., dtype=float32),\n",
       "  array(0., dtype=float32),\n",
       "  array(0., dtype=float32),\n",
       "  array(0., dtype=float32),\n",
       "  array(0., dtype=float32),\n",
       "  array(0., dtype=float32),\n",
       "  array(0., dtype=float32),\n",
       "  array(0., dtype=float32),\n",
       "  array(0., dtype=float32),\n",
       "  array(0., dtype=float32),\n",
       "  array(0., dtype=float32),\n",
       "  array(0., dtype=float32),\n",
       "  array(0., dtype=float32),\n",
       "  array(0., dtype=float32),\n",
       "  array(0., dtype=float32),\n",
       "  array(0., dtype=float32),\n",
       "  array(0., dtype=float32),\n",
       "  array(0., dtype=float32),\n",
       "  array(0., dtype=float32),\n",
       "  array(0., dtype=float32),\n",
       "  array(0., dtype=float32),\n",
       "  array(0., dtype=float32),\n",
       "  array(0., dtype=float32),\n",
       "  array(0., dtype=float32),\n",
       "  array(0., dtype=float32),\n",
       "  array(0., dtype=float32)]}"
      ]
     },
     "execution_count": 11,
     "metadata": {},
     "output_type": "execute_result"
    }
   ],
   "source": [
    "model.fit(dataset, opt=\"LBFGS\", steps=50)"
   ]
  },
  {
   "cell_type": "code",
   "execution_count": 12,
   "metadata": {},
   "outputs": [
    {
     "data": {
      "text/latex": [
       "$\\displaystyle 0.997282637072315 e^{1.00103641851225 \\left(8.012980339873 \\cdot 10^{-5} - x_{2}\\right)^{2} + 1.00172945921998 \\sin{\\left(3.14217782020569 x_{1} - 0.000247403018875048 \\right)}} + 0.00297119747847319$"
      ],
      "text/plain": [
       "0.997282637072315*exp(1.00103641851225*(8.012980339873e-5 - x_2)**2 + 1.00172945921998*sin(3.14217782020569*x_1 - 0.000247403018875048)) + 0.00297119747847319"
      ]
     },
     "execution_count": 12,
     "metadata": {},
     "output_type": "execute_result"
    }
   ],
   "source": [
    "model.symbolic_formula()[0][0]"
   ]
  }
 ],
 "metadata": {
  "kernelspec": {
   "display_name": "ai_intro",
   "language": "python",
   "name": "python3"
  },
  "language_info": {
   "codemirror_mode": {
    "name": "ipython",
    "version": 3
   },
   "file_extension": ".py",
   "mimetype": "text/x-python",
   "name": "python",
   "nbconvert_exporter": "python",
   "pygments_lexer": "ipython3",
   "version": "3.12.6"
  }
 },
 "nbformat": 4,
 "nbformat_minor": 2
}
