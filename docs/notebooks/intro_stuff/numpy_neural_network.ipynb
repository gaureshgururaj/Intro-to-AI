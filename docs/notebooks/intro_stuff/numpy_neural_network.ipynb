{
 "cells": [
  {
   "cell_type": "markdown",
   "metadata": {},
   "source": [
    "# Numpy Neural Network"
   ]
  },
  {
   "cell_type": "code",
   "execution_count": null,
   "metadata": {},
   "outputs": [],
   "source": [
    "%run supportvectors-common.ipynb"
   ]
  },
  {
   "cell_type": "code",
   "execution_count": 3,
   "metadata": {},
   "outputs": [],
   "source": [
    "import numpy as np\n",
    "from svlearn.nn.simple_neural_network import SimpleNeuralNetwork"
   ]
  },
  {
   "cell_type": "markdown",
   "metadata": {},
   "source": [
    "Generate 1000 points uniformly in the range of [0,1] and apply the below mathematical function to them\n",
    "$$ y = 4x^2 + 11x + 3 $$"
   ]
  },
  {
   "cell_type": "code",
   "execution_count": 4,
   "metadata": {},
   "outputs": [],
   "source": [
    "# Generate 1000 points uniformly spread out in the range [0, 1]\n",
    "x = np.linspace(0, 1, 1000).reshape(-1, 1)\n",
    "\n",
    "# Calculate y = 4x^2 + 11x + 3\n",
    "y = 4 * x**2 + 11 * x + 3\n"
   ]
  },
  {
   "cell_type": "markdown",
   "metadata": {},
   "source": [
    "Now initialize and train a simple neural network that is based on numpy (not on any autograd framework)"
   ]
  },
  {
   "cell_type": "code",
   "execution_count": null,
   "metadata": {},
   "outputs": [],
   "source": [
    "\n",
    "# Initialize and train the neural network\n",
    "nn = SimpleNeuralNetwork()\n",
    "nn.train(x, y, epochs=100, learning_rate=0.0001)\n"
   ]
  },
  {
   "cell_type": "markdown",
   "metadata": {},
   "source": [
    "Now test this network on some sample points"
   ]
  },
  {
   "cell_type": "code",
   "execution_count": null,
   "metadata": {},
   "outputs": [],
   "source": [
    "\n",
    "# Test the network\n",
    "\n",
    "x_sample = np.array([0.2, 0.8, 0.4, 0.9]).reshape(-1, 1)\n",
    "y_sample = 4 * x_sample**2 + 11*x_sample + 3\n",
    "output_sample = nn.forward(x_sample)\n",
    "print(f\"Input being tested: {x_sample}\")\n",
    "print(f\"Expected output: {y_sample}\")\n",
    "print(f\"Predicted output: {output_sample}\")"
   ]
  }
 ],
 "metadata": {
  "kernelspec": {
   "display_name": "ai_intro",
   "language": "python",
   "name": "python3"
  },
  "language_info": {
   "codemirror_mode": {
    "name": "ipython",
    "version": 3
   },
   "file_extension": ".py",
   "mimetype": "text/x-python",
   "name": "python",
   "nbconvert_exporter": "python",
   "pygments_lexer": "ipython3",
   "version": "3.11.9"
  }
 },
 "nbformat": 4,
 "nbformat_minor": 2
}
