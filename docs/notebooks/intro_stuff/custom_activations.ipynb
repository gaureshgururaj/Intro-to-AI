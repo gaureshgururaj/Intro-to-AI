{
 "cells": [
  {
   "cell_type": "markdown",
   "metadata": {},
   "source": [
    "# Custom Activations"
   ]
  },
  {
   "cell_type": "markdown",
   "metadata": {},
   "source": [
    "![logo](../images/logo-poster.png)"
   ]
  },
  {
   "cell_type": "code",
   "execution_count": null,
   "metadata": {},
   "outputs": [],
   "source": [
    "%run supportvectors-common.ipynb"
   ]
  },
  {
   "cell_type": "code",
   "execution_count": 3,
   "metadata": {},
   "outputs": [],
   "source": [
    "import torch\n",
    "import matplotlib.pyplot as plt\n",
    "\n",
    "plt.rcParams['text.usetex'] = False\n",
    "plt.rcParams['font.family'] = 'DejaVu Sans'"
   ]
  },
  {
   "cell_type": "markdown",
   "metadata": {},
   "source": [
    "# Custom Activation Function Plots"
   ]
  },
  {
   "cell_type": "code",
   "execution_count": 5,
   "metadata": {},
   "outputs": [],
   "source": [
    "from svlearn.custom_activations.custom_activation_functions import soft_clipping, soft_root_sign, hexpo, softsign\n",
    "\n",
    "\n",
    "functions = [soft_clipping,\n",
    "             lambda x : soft_clipping(x, a=8.0),\n",
    "             soft_root_sign, \n",
    "             hexpo,\n",
    "             softsign]\n",
    "\n",
    "names = [\"soft_clipping\",\n",
    "         \"soft_clipping_8\",\n",
    "         \"soft_root_sign\",\n",
    "         \"hexpo\",\n",
    "         \"softsign\"]"
   ]
  },
  {
   "cell_type": "code",
   "execution_count": 6,
   "metadata": {},
   "outputs": [],
   "source": [
    "def plot_activation_function(activation_fn, x_range=(-10, 10), num_points=1000, title=None):\n",
    "    \"\"\"Function for plotting the passed in activation function\n",
    "\n",
    "    Args:\n",
    "        activation_fn (_type_): A valid pytorch activation function\n",
    "        x_range (tuple, optional): the range specified from a min value to a max value. Defaults to (-10, 10).\n",
    "        num_points (int, optional): The number of x-points on which to compute the y-value. Defaults to 1000.\n",
    "        title (_type_, optional): The title for the plot. Defaults to None, in which case it picks the name from the activation function passed.\n",
    "    \"\"\"\n",
    "    x = torch.linspace(x_range[0], x_range[1], num_points)\n",
    "    y = activation_fn(x)\n",
    "    \n",
    "    plt.figure(figsize=(8, 6))\n",
    "    plt.plot(x.numpy(), y.numpy(), label=title or activation_fn.__name__)\n",
    "    plt.title(title or activation_fn.__name__)\n",
    "    plt.xlabel('Input')\n",
    "    plt.ylabel('Output')\n",
    "    plt.grid(True)\n",
    "    plt.legend()\n",
    "    plt.show()"
   ]
  },
  {
   "cell_type": "code",
   "execution_count": null,
   "metadata": {},
   "outputs": [],
   "source": [
    "\n",
    "i = 0\n",
    "for func in functions:\n",
    "    print(names[i])\n",
    "    plot_activation_function(func, title=names[i]) \n",
    "    i += 1\n",
    "    "
   ]
  },
  {
   "cell_type": "markdown",
   "metadata": {},
   "source": [
    "# Custom Activation Networks"
   ]
  },
  {
   "cell_type": "code",
   "execution_count": null,
   "metadata": {},
   "outputs": [],
   "source": [
    "from svlearn.custom_activations.custom_activation_networks import Hexpo\n",
    "\n",
    "\n",
    "hexpo = Hexpo()\n",
    "x = torch.tensor([0.0, 1.0, 2.0])\n",
    "y = hexpo(x)\n",
    "print(f\"input = {x}, custom activation = {hexpo}, output = {y}\")\n"
   ]
  }
 ],
 "metadata": {
  "kernelspec": {
   "display_name": "ai_intro",
   "language": "python",
   "name": "python3"
  },
  "language_info": {
   "codemirror_mode": {
    "name": "ipython",
    "version": 3
   },
   "file_extension": ".py",
   "mimetype": "text/x-python",
   "name": "python",
   "nbconvert_exporter": "python",
   "pygments_lexer": "ipython3",
   "version": "3.11.9"
  }
 },
 "nbformat": 4,
 "nbformat_minor": 2
}
