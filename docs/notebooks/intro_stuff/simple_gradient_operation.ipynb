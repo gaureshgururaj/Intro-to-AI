{
 "cells": [
  {
   "cell_type": "markdown",
   "metadata": {},
   "source": [
    "# Pytorch Gradients - Basic Application"
   ]
  },
  {
   "cell_type": "code",
   "execution_count": null,
   "metadata": {},
   "outputs": [],
   "source": [
    "%run supportvectors-common.ipynb"
   ]
  },
  {
   "cell_type": "code",
   "execution_count": 2,
   "metadata": {},
   "outputs": [],
   "source": [
    "import torch"
   ]
  },
  {
   "cell_type": "markdown",
   "metadata": {},
   "source": [
    "Consider the function : $$ y = x^3 + 4 $$\n",
    "\n",
    "Its derivative is $$ \\frac{dy}{dx} = 3x^2 $$"
   ]
  },
  {
   "cell_type": "code",
   "execution_count": 3,
   "metadata": {},
   "outputs": [],
   "source": [
    "# Define the function\n",
    "def y_function(x):\n",
    "    return x**3 + 4\n",
    "\n",
    "# Define the mathematically computed derivative function\n",
    "def y_derivative_function(x):\n",
    "    return 3*x**2\n"
   ]
  },
  {
   "cell_type": "markdown",
   "metadata": {},
   "source": [
    "Consider the function : $$ z = sin(y) $$\n",
    "\n",
    "Its derivative is $$ \\frac{dz}{dy} = cos(y) $$"
   ]
  },
  {
   "cell_type": "code",
   "execution_count": 4,
   "metadata": {},
   "outputs": [],
   "source": [
    "# Define the function\n",
    "def z_function(y):\n",
    "    return torch.sin(y)\n",
    "\n",
    "# Define the mathematically computed derivative function\n",
    "def z_derivative_function(y):\n",
    "    return torch.cos(y)"
   ]
  },
  {
   "cell_type": "markdown",
   "metadata": {},
   "source": [
    "Compute $dz/dx$ using chain rule: $$ \\frac{dz}{dx} = cos(x^3 + 4) * 3x^2$$"
   ]
  },
  {
   "cell_type": "code",
   "execution_count": 5,
   "metadata": {},
   "outputs": [],
   "source": [
    "# Define the mathematically computed derivative of z wrt x\n",
    "def z_derivative_x(x):\n",
    "    return 3 * x**2 * torch.cos(x**3 + 4)"
   ]
  },
  {
   "cell_type": "markdown",
   "metadata": {},
   "source": [
    "Now create a simple chain of pytorch functions on an input pytorch tensor x"
   ]
  },
  {
   "cell_type": "code",
   "execution_count": 6,
   "metadata": {},
   "outputs": [],
   "source": [
    "\n",
    "# Create a tensor with value of, say, 7, and set requires_grad=True to enable autograd \n",
    "x = torch.tensor([7.0], requires_grad=True)\n",
    "\n",
    "# Compute y\n",
    "y = y_function(x)\n",
    "\n",
    "# Compute z\n",
    "z = z_function(y)\n"
   ]
  },
  {
   "cell_type": "markdown",
   "metadata": {},
   "source": [
    "Compute the pytorch gradient of z with respect to x"
   ]
  },
  {
   "cell_type": "code",
   "execution_count": null,
   "metadata": {},
   "outputs": [],
   "source": [
    "\n",
    "# Compute the gradients of z\n",
    "z.backward(torch.ones_like(x))  # Use a vector of ones to compute the gradient\n",
    "\n",
    "# Print the gradients of z with respect to x computed by pytorch\n",
    "print(f'The pytorch gradient of z wrt x is {x.grad.item()}')   \n"
   ]
  },
  {
   "cell_type": "markdown",
   "metadata": {},
   "source": [
    "Compute the mathematical gradient of $z$ with respect to $x$"
   ]
  },
  {
   "cell_type": "code",
   "execution_count": null,
   "metadata": {},
   "outputs": [],
   "source": [
    "\n",
    "# Compute dz/dx\n",
    "z_wrt_x = z_derivative_x(x)\n",
    "\n",
    "# Print the gradients of z wrt x computed mathematically\n",
    "print(f'The mathematical gradient of z wrt x is {z_wrt_x.item()}') \n"
   ]
  },
  {
   "cell_type": "markdown",
   "metadata": {},
   "source": []
  }
 ],
 "metadata": {
  "kernelspec": {
   "display_name": "ai_intro",
   "language": "python",
   "name": "python3"
  },
  "language_info": {
   "codemirror_mode": {
    "name": "ipython",
    "version": 3
   },
   "file_extension": ".py",
   "mimetype": "text/x-python",
   "name": "python",
   "nbconvert_exporter": "python",
   "pygments_lexer": "ipython3",
   "version": "3.11.9"
  }
 },
 "nbformat": 4,
 "nbformat_minor": 2
}
