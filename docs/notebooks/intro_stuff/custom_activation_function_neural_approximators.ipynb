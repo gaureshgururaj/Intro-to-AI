{
 "cells": [
  {
   "cell_type": "markdown",
   "metadata": {},
   "source": [
    "# Cutom Activation Functions"
   ]
  },
  {
   "cell_type": "markdown",
   "metadata": {},
   "source": [
    "![logo](../images/logo-poster.png)"
   ]
  },
  {
   "cell_type": "code",
   "execution_count": null,
   "metadata": {},
   "outputs": [],
   "source": [
    "%run supportvectors-common.ipynb"
   ]
  },
  {
   "cell_type": "code",
   "execution_count": 14,
   "metadata": {},
   "outputs": [],
   "source": [
    "import numpy as np\n",
    "import matplotlib.pyplot as plt\n",
    "from svlearn.approximator.univariate_approximator import UnivariateApproximator\n",
    "\n",
    "plt.rcParams['text.usetex'] = False\n",
    "plt.rcParams['font.family'] = 'DejaVu Sans'"
   ]
  },
  {
   "cell_type": "markdown",
   "metadata": {},
   "source": [
    "## Define the custom activation function"
   ]
  },
  {
   "cell_type": "markdown",
   "metadata": {},
   "source": [
    "### Soft Clipping"
   ]
  },
  {
   "cell_type": "code",
   "execution_count": 3,
   "metadata": {},
   "outputs": [],
   "source": [
    "def soft_clipping(x: np.ndarray , a=1.0) -> np.ndarray :\n",
    "    \"\"\"soft clipping function defined as 1/a * ln ([1+exp(a*x)]/[1-exp(a*(x-1))])\n",
    "\n",
    "    Args:\n",
    "        x (np.ndarray): The x value(s) passed in\n",
    "        a (float, optional): The soft clipping parameter. Defaults to 1.0.\n",
    "    Returns:\n",
    "        np.ndarray: The y value(s) returned by the soft clipping function\n",
    "    \"\"\"\n",
    "    return (1/a) * np.log((1 + np.exp(a * x))/(1 + np.exp(a * (x - 1))))"
   ]
  },
  {
   "cell_type": "markdown",
   "metadata": {},
   "source": [
    "### Soft Root Sign"
   ]
  },
  {
   "cell_type": "code",
   "execution_count": 8,
   "metadata": {},
   "outputs": [],
   "source": [
    "def soft_root_sign(x: np.ndarray , a=2.0, b=3.0) -> np.ndarray :\n",
    "    \"\"\"soft root sign function defined as x / (x/a + exp(-x/b))\n",
    "    Args:\n",
    "        x (np.ndarray): The x value(s) passed in\n",
    "        a (float, optional): The a parameter defaults to 2.0.\n",
    "        b (float, optional): The b parameter defaults to 3.0\n",
    "    Returns:\n",
    "        np.ndarray: The y value(s) returned by the soft root sign function\n",
    "    \"\"\"\n",
    "    \n",
    "    return (x / (x/a + np.exp(-x/b)))"
   ]
  },
  {
   "cell_type": "markdown",
   "metadata": {},
   "source": [
    "### Hexpo"
   ]
  },
  {
   "cell_type": "code",
   "execution_count": 9,
   "metadata": {},
   "outputs": [],
   "source": [
    "def hexpo(x: np.ndarray , a=1.0, b=1.0, c=1.0, d=1.0) -> np.ndarray :\n",
    "    \"\"\"hexpo function defined as -a (exp(-x/b) -1), for x >= 0; \n",
    "                                  c (exp(-x/d) -1), for x < 0;\n",
    "    Args:\n",
    "        x (np.ndarray): The x value(s) passed in\n",
    "        a (float, optional): The a parameter defaults to 1.0.\n",
    "        b (float, optional): The b parameter defaults to 1.0\n",
    "        c (float, optional): The c parameter defaults to 1.0.\n",
    "        d (float, optional): The d parameter defaults to 1.0        \n",
    "    Returns:\n",
    "        np.ndarray: The y value(s) returned by the hexpo function\n",
    "    \"\"\"\n",
    "    y = np.where(x >= 0,\n",
    "                 -a * (np.exp(-x/b) - 1),\n",
    "                 c * (np.exp(-x/d) - 1))\n",
    "    return y\n",
    "    "
   ]
  },
  {
   "cell_type": "markdown",
   "metadata": {},
   "source": [
    "### Softsign"
   ]
  },
  {
   "cell_type": "code",
   "execution_count": 10,
   "metadata": {},
   "outputs": [],
   "source": [
    "def softsign(x: np.ndarray ) -> np.ndarray :\n",
    "    \"\"\"softsign function defined as x / (1+ |x|)\n",
    "    Args:\n",
    "        x (np.ndarray): The x value(s) passed in      \n",
    "    Returns:\n",
    "        np.ndarray: The y value(s) returned by the softsign function\n",
    "    \"\"\"\n",
    "    return x / ( 1 + np.abs(x))"
   ]
  },
  {
   "cell_type": "markdown",
   "metadata": {},
   "source": [
    "## Now implement and draw these functions"
   ]
  },
  {
   "cell_type": "code",
   "execution_count": 12,
   "metadata": {},
   "outputs": [],
   "source": [
    "functions = [soft_clipping,\n",
    "             lambda x : soft_clipping(x, a=8.0),\n",
    "             soft_root_sign, \n",
    "             hexpo,\n",
    "             softsign]\n",
    "\n",
    "names = [\"soft_clipping\",\n",
    "         \"soft_clipping_8\",\n",
    "         \"soft_root_sign\",\n",
    "         \"hexpo\",\n",
    "         \"softsign\"]"
   ]
  },
  {
   "cell_type": "code",
   "execution_count": null,
   "metadata": {},
   "outputs": [],
   "source": [
    "i = 0\n",
    "for func in functions:\n",
    "    print(names[i])\n",
    "    approximator = UnivariateApproximator(func=func, start=-10, end= 10, scale = False)\n",
    "    approximator.train(1)\n",
    "    approximator.evaluate_model()\n",
    "    correlation = approximator.correlation()\n",
    "    print(f'The Pearson correlation between ground truth and prediction is {correlation}')   \n",
    "    fig = approximator.create_plots() \n",
    "    plt.show()\n",
    "    i += 1"
   ]
  }
 ],
 "metadata": {
  "kernelspec": {
   "display_name": "ai_intro",
   "language": "python",
   "name": "python3"
  },
  "language_info": {
   "codemirror_mode": {
    "name": "ipython",
    "version": 3
   },
   "file_extension": ".py",
   "mimetype": "text/x-python",
   "name": "python",
   "nbconvert_exporter": "python",
   "pygments_lexer": "ipython3",
   "version": "3.11.9"
  }
 },
 "nbformat": 4,
 "nbformat_minor": 2
}
